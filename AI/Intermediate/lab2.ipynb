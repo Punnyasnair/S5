{
 "cells": [
  {
   "cell_type": "code",
   "execution_count": 1,
   "id": "a301e8c5-f0bd-4e3d-aee2-e274c4e497e4",
   "metadata": {},
   "outputs": [
    {
     "name": "stdout",
     "output_type": "stream",
     "text": [
      "6\n"
     ]
    }
   ],
   "source": [
    "even_numbers_tuple = (2, 4, 6, 8, 10)\n",
    "print(even_numbers_tuple[2])\n"
   ]
  },
  {
   "cell_type": "code",
   "execution_count": 2,
   "id": "af3e844d-4010-4826-96a5-cee5139a9126",
   "metadata": {},
   "outputs": [
    {
     "name": "stdout",
     "output_type": "stream",
     "text": [
      "{1, 2, 3, 4, 5, 6}\n"
     ]
    }
   ],
   "source": [
    "my_list = [1, 2, 2, 3, 4, 4, 5, 1, 6]\n",
    "unique_items_set = set(my_list)\n",
    "print(unique_items_set)"
   ]
  },
  {
   "cell_type": "code",
   "execution_count": 3,
   "id": "53825563-b15c-4a26-a09f-f461c793a78b",
   "metadata": {},
   "outputs": [
    {
     "name": "stdout",
     "output_type": "stream",
     "text": [
      "First 6 characters: python\n",
      "Last 6 characters: programming\n",
      "Every second character: ptopormig\n",
      "Reversed string: gnimmargorpnohtyp\n"
     ]
    }
   ],
   "source": [
    "string = \"pythonprogramming\"\n",
    "first_six = string[:6]\n",
    "print(f\"First 6 characters: {first_six}\")\n",
    "last_six = string[6:]\n",
    "print(f\"Last 6 characters: {last_six}\")\n",
    "every_second = string[::2]\n",
    "print(f\"Every second character: {every_second}\")\n",
    "reversed_string = string[::-1]\n",
    "print(f\"Reversed string: {reversed_string}\")"
   ]
  },
  {
   "cell_type": "code",
   "execution_count": 4,
   "id": "96b8642e-7d88-4413-b0a6-eefff533e791",
   "metadata": {},
   "outputs": [
    {
     "name": "stdout",
     "output_type": "stream",
     "text": [
      "[1, 4, 9, 16, 25, 36, 49, 64, 81, 100]\n"
     ]
    }
   ],
   "source": [
    "squares = [x**2 for x in range(1, 11)]\n",
    "print(squares)"
   ]
  },
  {
   "cell_type": "code",
   "execution_count": 5,
   "id": "49c90f5e-c069-469f-9f12-af1b5c594772",
   "metadata": {},
   "outputs": [
    {
     "name": "stdout",
     "output_type": "stream",
     "text": [
      "[2, 4, 6, 8, 10, 12, 14, 16, 18, 20, 22, 24, 26, 28, 30, 32, 34, 36, 38, 40, 42, 44, 46, 48, 50]\n"
     ]
    }
   ],
   "source": [
    "even_numbers = [x for x in range(1, 51) if x % 2 == 0]\n",
    "print(even_numbers)"
   ]
  },
  {
   "cell_type": "code",
   "execution_count": 6,
   "id": "c295659d-ab8e-4515-bc8a-c0be2157f1ba",
   "metadata": {},
   "outputs": [
    {
     "name": "stdout",
     "output_type": "stream",
     "text": [
      "True\n",
      "False\n",
      "True\n",
      "False\n",
      "False\n",
      "True\n"
     ]
    }
   ],
   "source": [
    "import math\n",
    "\n",
    "def is_prime(n):\n",
    "    \"\"\"\n",
    "    Checks if a given number is prime.\n",
    "\n",
    "    Args:\n",
    "        n: An integer.\n",
    "\n",
    "    Returns:\n",
    "        True if n is a prime number, False otherwise.\n",
    "    \"\"\"\n",
    "    if n <= 1:\n",
    "        return False  \n",
    "    if n == 2:\n",
    "        return True  \n",
    "    if n % 2 == 0:\n",
    "        return False  \n",
    "    for i in range(3, int(math.sqrt(n)) + 1, 2):\n",
    "        if n % i == 0:\n",
    "            return False  \n",
    "    return True  \n",
    "print(is_prime(7))   # Output: True\n",
    "print(is_prime(10))  # Output: False\n",
    "print(is_prime(2))   # Output: True\n",
    "print(is_prime(1))   # Output: False\n",
    "print(is_prime(0))   # Output: False\n",
    "print(is_prime(29))  # Output: True"
   ]
  },
  {
   "cell_type": "code",
   "execution_count": 7,
   "id": "34e0bbf3-7113-47aa-be2b-ad0e9357a88a",
   "metadata": {},
   "outputs": [
    {
     "name": "stdin",
     "output_type": "stream",
     "text": [
      "Enter a non-negative integer:  56\n"
     ]
    },
    {
     "name": "stdout",
     "output_type": "stream",
     "text": [
      "The factorial of 56 is 710998587804863451854045647463724949736497978881168458687447040000000000000\n"
     ]
    }
   ],
   "source": [
    "def factorial(n):\n",
    "    \"\"\"\n",
    "    Calculates the factorial of a non-negative integer using recursion.\n",
    "\n",
    "    Args:\n",
    "        n: A non-negative integer.\n",
    "\n",
    "    Returns:\n",
    "        The factorial of n.\n",
    "    \"\"\"\n",
    "    if n == 0 or n == 1: \n",
    "        return 1\n",
    "    elif n < 0:\n",
    "        raise ValueError(\"Factorial is not defined for negative numbers.\")\n",
    "    else:  \n",
    "        return n * factorial(n - 1)\n",
    "try:\n",
    "    number = int(input(\"Enter a non-negative integer: \"))\n",
    "    result = factorial(number)\n",
    "    print(f\"The factorial of {number} is {result}\")\n",
    "except ValueError as e:\n",
    "    print(f\"Error: {e}\")"
   ]
  },
  {
   "cell_type": "code",
   "execution_count": 8,
   "id": "6568a614-8a8e-4610-bf77-904401de0036",
   "metadata": {},
   "outputs": [
    {
     "name": "stdout",
     "output_type": "stream",
     "text": [
      "Student Name: Alice, Grade: A\n",
      "Student Name: Bob, Grade: 90\n"
     ]
    }
   ],
   "source": [
    "class Student:\n",
    "    def __init__(self, name, grade):\n",
    "        \"\"\"\n",
    "        Initializes a new Student object.\n",
    "\n",
    "        Args:\n",
    "            name (str): The name of the student.\n",
    "            grade (str or int): The grade of the student (e.g., 'A', 'B', or a numerical grade).\n",
    "        \"\"\"\n",
    "        self.name = name\n",
    "        self.grade = grade\n",
    "\n",
    "    def display_info(self):\n",
    "        \"\"\"\n",
    "        Prints the name and grade of the student.\n",
    "        \"\"\"\n",
    "        print(f\"Student Name: {self.name}, Grade: {self.grade}\")\n",
    "\n",
    "student1 = Student(\"Alice\", \"A\")\n",
    "student2 = Student(\"Bob\", 90)\n",
    "\n",
    "student1.display_info()\n",
    "student2.display_info()"
   ]
  },
  {
   "cell_type": "code",
   "execution_count": 9,
   "id": "66017e89-0ab3-4e1d-bbe6-2e50f4527c6e",
   "metadata": {},
   "outputs": [
    {
     "name": "stdout",
     "output_type": "stream",
     "text": [
      "The sum of the list [1, 2, 3, 4, 5] is: 15\n",
      "The sum of the empty list [] is: 0\n"
     ]
    }
   ],
   "source": [
    "def calculate_list_sum(numbers_list):\n",
    "  \"\"\"\n",
    "  Calculates the sum of all numeric elements in a list.\n",
    "\n",
    "  Args:\n",
    "    numbers_list: A list containing numbers (integers or floats).\n",
    "\n",
    "  Returns:\n",
    "    The sum of the elements in the list. Returns 0 if the list is empty.\n",
    "  \"\"\"\n",
    "  total = 0\n",
    "  for number in numbers_list:\n",
    "    total += number\n",
    "  return total\n",
    "\n",
    "# Example usage:\n",
    "my_list = [1, 2, 3, 4, 5]\n",
    "list_sum = calculate_list_sum(my_list)\n",
    "print(f\"The sum of the list {my_list} is: {list_sum}\") \n",
    "\n",
    "empty_list = []\n",
    "empty_list_sum = calculate_list_sum(empty_list)\n",
    "print(f\"The sum of the empty list {empty_list} is: {empty_list_sum}\")"
   ]
  },
  {
   "cell_type": "code",
   "execution_count": 10,
   "id": "2381e4ee-dd06-47fc-a204-78d2024fd483",
   "metadata": {},
   "outputs": [
    {
     "name": "stdout",
     "output_type": "stream",
     "text": [
      "Initial name: Alice, Initial grade: 85\n",
      "Updated name: Bob, Updated grade: 92\n",
      "Invalid name. Name must be a non-empty string.\n",
      "Invalid grade. Grade must be a number between 0 and 100.\n"
     ]
    }
   ],
   "source": [
    "class Student:\n",
    "    def __init__(self, name, grade):\n",
    "        self._name = name  \n",
    "        self._grade = grade\n",
    "\n",
    "    def get_name(self):\n",
    "        \"\"\"Getter for name.\"\"\"\n",
    "        return self._name\n",
    "\n",
    "    def set_name(self, new_name):\n",
    "        \"\"\"Setter for name with optional validation.\"\"\"\n",
    "        if isinstance(new_name, str) and len(new_name) > 0:\n",
    "            self._name = new_name\n",
    "        else:\n",
    "            print(\"Invalid name. Name must be a non-empty string.\")\n",
    "\n",
    "    def get_grade(self):\n",
    "        \"\"\"Getter for grade.\"\"\"\n",
    "        return self._grade\n",
    "\n",
    "    def set_grade(self, new_grade):\n",
    "        \"\"\"Setter for grade with optional validation.\"\"\"\n",
    "        if isinstance(new_grade, (int, float)) and 0 <= new_grade <= 100:\n",
    "            self._grade = new_grade\n",
    "        else:\n",
    "            print(\"Invalid grade. Grade must be a number between 0 and 100.\")\n",
    "student1 = Student(\"Alice\", 85)\n",
    "print(f\"Initial name: {student1.get_name()}, Initial grade: {student1.get_grade()}\")\n",
    "\n",
    "student1.set_name(\"Bob\")\n",
    "student1.set_grade(92)\n",
    "print(f\"Updated name: {student1.get_name()}, Updated grade: {student1.get_grade()}\")\n",
    "\n",
    "student1.set_name(\"\")  \n",
    "student1.set_grade(105) "
   ]
  },
  {
   "cell_type": "code",
   "execution_count": 11,
   "id": "658ca1c5-2da4-4fc8-b8eb-ff54e31d301a",
   "metadata": {},
   "outputs": [
    {
     "name": "stdout",
     "output_type": "stream",
     "text": [
      "Student 1 Details:\n",
      "Name: Alice\n",
      "Age: 18\n",
      "Student ID: S101\n",
      "\n",
      "Student 2 Details:\n",
      "Name: Bob\n",
      "Age: 19\n",
      "Student ID: S102\n"
     ]
    }
   ],
   "source": [
    "class Student:\n",
    "    def __init__(self, name, age, student_id):\n",
    "        self._name = name  \n",
    "        self._age = age\n",
    "        self._student_id = student_id\n",
    "    def get_name(self):\n",
    "        return self._name\n",
    "    def get_age(self):\n",
    "        return self._age\n",
    "    def get_student_id(self):\n",
    "        return self._student_id\n",
    "student1 = Student(\"Alice\", 18, \"S101\")\n",
    "student2 = Student(\"Bob\", 19, \"S102\")\n",
    "print(f\"Student 1 Details:\")\n",
    "print(f\"Name: {student1.get_name()}\")\n",
    "print(f\"Age: {student1.get_age()}\")\n",
    "print(f\"Student ID: {student1.get_student_id()}\")\n",
    "print(f\"\\nStudent 2 Details:\")\n",
    "print(f\"Name: {student2.get_name()}\")\n",
    "print(f\"Age: {student2.get_age()}\")\n",
    "print(f\"Student ID: {student2.get_student_id()}\")\n"
   ]
  },
  {
   "cell_type": "code",
   "execution_count": null,
   "id": "ac37828b-2d27-4863-9e69-421e2b5b5a88",
   "metadata": {},
   "outputs": [],
   "source": []
  }
 ],
 "metadata": {
  "kernelspec": {
   "display_name": "Python 3 (ipykernel)",
   "language": "python",
   "name": "python3"
  },
  "language_info": {
   "codemirror_mode": {
    "name": "ipython",
    "version": 3
   },
   "file_extension": ".py",
   "mimetype": "text/x-python",
   "name": "python",
   "nbconvert_exporter": "python",
   "pygments_lexer": "ipython3",
   "version": "3.10.12"
  }
 },
 "nbformat": 4,
 "nbformat_minor": 5
}
